{
 "cells": [
  {
   "cell_type": "markdown",
   "id": "212f0aa2-c0a3-4086-bddb-359caebbeaac",
   "metadata": {},
   "source": [
    "### Q_1. Pandas version"
   ]
  },
  {
   "cell_type": "code",
   "execution_count": 1,
   "id": "03ca9c0c-9ac5-4d83-8546-fe1fb625dcd1",
   "metadata": {},
   "outputs": [
    {
     "name": "stdout",
     "output_type": "stream",
     "text": [
      "Pandas version is: 2.3.1\n"
     ]
    }
   ],
   "source": [
    "import pandas as pd\n",
    "import numpy as np\n",
    "\n",
    "# Q1 Pandas version answer\n",
    "\n",
    "print(f\"Pandas version is: {pd.__version__}\")"
   ]
  },
  {
   "cell_type": "code",
   "execution_count": 2,
   "id": "ec469f17",
   "metadata": {},
   "outputs": [],
   "source": [
    "data=pd.read_csv(\"https://raw.githubusercontent.com/alexeygrigorev/datasets/master/car_fuel_efficiency.csv\")"
   ]
  },
  {
   "cell_type": "code",
   "execution_count": 3,
   "id": "b17ab578-1624-492f-b0e8-1cbb38fb341c",
   "metadata": {},
   "outputs": [
    {
     "data": {
      "text/html": [
       "<div>\n",
       "<style scoped>\n",
       "    .dataframe tbody tr th:only-of-type {\n",
       "        vertical-align: middle;\n",
       "    }\n",
       "\n",
       "    .dataframe tbody tr th {\n",
       "        vertical-align: top;\n",
       "    }\n",
       "\n",
       "    .dataframe thead th {\n",
       "        text-align: right;\n",
       "    }\n",
       "</style>\n",
       "<table border=\"1\" class=\"dataframe\">\n",
       "  <thead>\n",
       "    <tr style=\"text-align: right;\">\n",
       "      <th></th>\n",
       "      <th>engine_displacement</th>\n",
       "      <th>num_cylinders</th>\n",
       "      <th>horsepower</th>\n",
       "      <th>vehicle_weight</th>\n",
       "      <th>acceleration</th>\n",
       "      <th>model_year</th>\n",
       "      <th>origin</th>\n",
       "      <th>fuel_type</th>\n",
       "      <th>drivetrain</th>\n",
       "      <th>num_doors</th>\n",
       "      <th>fuel_efficiency_mpg</th>\n",
       "    </tr>\n",
       "  </thead>\n",
       "  <tbody>\n",
       "    <tr>\n",
       "      <th>0</th>\n",
       "      <td>170</td>\n",
       "      <td>3.0</td>\n",
       "      <td>159.0</td>\n",
       "      <td>3413.433759</td>\n",
       "      <td>17.7</td>\n",
       "      <td>2003</td>\n",
       "      <td>Europe</td>\n",
       "      <td>Gasoline</td>\n",
       "      <td>All-wheel drive</td>\n",
       "      <td>0.0</td>\n",
       "      <td>13.231729</td>\n",
       "    </tr>\n",
       "    <tr>\n",
       "      <th>1</th>\n",
       "      <td>130</td>\n",
       "      <td>5.0</td>\n",
       "      <td>97.0</td>\n",
       "      <td>3149.664934</td>\n",
       "      <td>17.8</td>\n",
       "      <td>2007</td>\n",
       "      <td>USA</td>\n",
       "      <td>Gasoline</td>\n",
       "      <td>Front-wheel drive</td>\n",
       "      <td>0.0</td>\n",
       "      <td>13.688217</td>\n",
       "    </tr>\n",
       "    <tr>\n",
       "      <th>2</th>\n",
       "      <td>170</td>\n",
       "      <td>NaN</td>\n",
       "      <td>78.0</td>\n",
       "      <td>3079.038997</td>\n",
       "      <td>15.1</td>\n",
       "      <td>2018</td>\n",
       "      <td>Europe</td>\n",
       "      <td>Gasoline</td>\n",
       "      <td>Front-wheel drive</td>\n",
       "      <td>0.0</td>\n",
       "      <td>14.246341</td>\n",
       "    </tr>\n",
       "    <tr>\n",
       "      <th>3</th>\n",
       "      <td>220</td>\n",
       "      <td>4.0</td>\n",
       "      <td>NaN</td>\n",
       "      <td>2542.392402</td>\n",
       "      <td>20.2</td>\n",
       "      <td>2009</td>\n",
       "      <td>USA</td>\n",
       "      <td>Diesel</td>\n",
       "      <td>All-wheel drive</td>\n",
       "      <td>2.0</td>\n",
       "      <td>16.912736</td>\n",
       "    </tr>\n",
       "    <tr>\n",
       "      <th>4</th>\n",
       "      <td>210</td>\n",
       "      <td>1.0</td>\n",
       "      <td>140.0</td>\n",
       "      <td>3460.870990</td>\n",
       "      <td>14.4</td>\n",
       "      <td>2009</td>\n",
       "      <td>Europe</td>\n",
       "      <td>Gasoline</td>\n",
       "      <td>All-wheel drive</td>\n",
       "      <td>2.0</td>\n",
       "      <td>12.488369</td>\n",
       "    </tr>\n",
       "  </tbody>\n",
       "</table>\n",
       "</div>"
      ],
      "text/plain": [
       "   engine_displacement  num_cylinders  horsepower  vehicle_weight  \\\n",
       "0                  170            3.0       159.0     3413.433759   \n",
       "1                  130            5.0        97.0     3149.664934   \n",
       "2                  170            NaN        78.0     3079.038997   \n",
       "3                  220            4.0         NaN     2542.392402   \n",
       "4                  210            1.0       140.0     3460.870990   \n",
       "\n",
       "   acceleration  model_year  origin fuel_type         drivetrain  num_doors  \\\n",
       "0          17.7        2003  Europe  Gasoline    All-wheel drive        0.0   \n",
       "1          17.8        2007     USA  Gasoline  Front-wheel drive        0.0   \n",
       "2          15.1        2018  Europe  Gasoline  Front-wheel drive        0.0   \n",
       "3          20.2        2009     USA    Diesel    All-wheel drive        2.0   \n",
       "4          14.4        2009  Europe  Gasoline    All-wheel drive        2.0   \n",
       "\n",
       "   fuel_efficiency_mpg  \n",
       "0            13.231729  \n",
       "1            13.688217  \n",
       "2            14.246341  \n",
       "3            16.912736  \n",
       "4            12.488369  "
      ]
     },
     "execution_count": 3,
     "metadata": {},
     "output_type": "execute_result"
    }
   ],
   "source": [
    "data.head()"
   ]
  },
  {
   "cell_type": "code",
   "execution_count": 4,
   "id": "427742fc",
   "metadata": {},
   "outputs": [
    {
     "name": "stdout",
     "output_type": "stream",
     "text": [
      "<class 'pandas.core.frame.DataFrame'>\n",
      "RangeIndex: 9704 entries, 0 to 9703\n",
      "Data columns (total 11 columns):\n",
      " #   Column               Non-Null Count  Dtype  \n",
      "---  ------               --------------  -----  \n",
      " 0   engine_displacement  9704 non-null   int64  \n",
      " 1   num_cylinders        9222 non-null   float64\n",
      " 2   horsepower           8996 non-null   float64\n",
      " 3   vehicle_weight       9704 non-null   float64\n",
      " 4   acceleration         8774 non-null   float64\n",
      " 5   model_year           9704 non-null   int64  \n",
      " 6   origin               9704 non-null   object \n",
      " 7   fuel_type            9704 non-null   object \n",
      " 8   drivetrain           9704 non-null   object \n",
      " 9   num_doors            9202 non-null   float64\n",
      " 10  fuel_efficiency_mpg  9704 non-null   float64\n",
      "dtypes: float64(6), int64(2), object(3)\n",
      "memory usage: 834.1+ KB\n"
     ]
    }
   ],
   "source": [
    "data.info()"
   ]
  },
  {
   "cell_type": "markdown",
   "id": "b58b476e-b591-4fa6-9f2b-9668b354f3af",
   "metadata": {},
   "source": [
    "### Q_2 Records count"
   ]
  },
  {
   "cell_type": "code",
   "execution_count": 5,
   "id": "74db927a-d090-4318-a3b1-705f26d11547",
   "metadata": {},
   "outputs": [
    {
     "data": {
      "text/plain": [
       "engine_displacement    9704\n",
       "num_cylinders          9222\n",
       "horsepower             8996\n",
       "vehicle_weight         9704\n",
       "acceleration           8774\n",
       "model_year             9704\n",
       "origin                 9704\n",
       "fuel_type              9704\n",
       "drivetrain             9704\n",
       "num_doors              9202\n",
       "fuel_efficiency_mpg    9704\n",
       "dtype: int64"
      ]
     },
     "execution_count": 5,
     "metadata": {},
     "output_type": "execute_result"
    }
   ],
   "source": [
    "# Q_2 Answer is 9704\n",
    "data.count()"
   ]
  },
  {
   "cell_type": "markdown",
   "id": "40b7a0bf-3baf-4169-a968-28f925675b32",
   "metadata": {},
   "source": [
    "### Q_3 Fuel types"
   ]
  },
  {
   "cell_type": "code",
   "execution_count": 6,
   "id": "7a749b5b-3836-46a6-8107-b1050225c1cf",
   "metadata": {},
   "outputs": [
    {
     "data": {
      "text/plain": [
       "2"
      ]
     },
     "execution_count": 6,
     "metadata": {},
     "output_type": "execute_result"
    }
   ],
   "source": [
    "# Q_3 Answer is 2 \n",
    "data['fuel_type'].nunique()"
   ]
  },
  {
   "cell_type": "markdown",
   "id": "7981ce11-abca-42f5-a64f-8bf7e232b8d6",
   "metadata": {},
   "source": [
    "### Q_4 Missing values"
   ]
  },
  {
   "cell_type": "code",
   "execution_count": 7,
   "id": "63862193-20c7-4ca6-be3e-68ef7ee5388b",
   "metadata": {},
   "outputs": [
    {
     "data": {
      "text/plain": [
       "engine_displacement      0\n",
       "num_cylinders          482\n",
       "horsepower             708\n",
       "vehicle_weight           0\n",
       "acceleration           930\n",
       "model_year               0\n",
       "origin                   0\n",
       "fuel_type                0\n",
       "drivetrain               0\n",
       "num_doors              502\n",
       "fuel_efficiency_mpg      0\n",
       "dtype: int64"
      ]
     },
     "execution_count": 7,
     "metadata": {},
     "output_type": "execute_result"
    }
   ],
   "source": [
    "# Q_4 Answer is 4\n",
    "data.isnull().sum()"
   ]
  },
  {
   "cell_type": "markdown",
   "id": "19d24e7a-56bd-4d67-8e5a-3aa62bc042b6",
   "metadata": {},
   "source": [
    "### Q_5 Max fuel efficiency"
   ]
  },
  {
   "cell_type": "code",
   "execution_count": 8,
   "id": "14f9960f-b342-4054-b0a9-883fedaa6195",
   "metadata": {},
   "outputs": [
    {
     "data": {
      "text/plain": [
       "origin\n",
       "Asia      23.759123\n",
       "Europe    25.967222\n",
       "USA       24.971452\n",
       "Name: fuel_efficiency_mpg, dtype: float64"
      ]
     },
     "execution_count": 8,
     "metadata": {},
     "output_type": "execute_result"
    }
   ],
   "source": [
    "# Q_5 Answer is 23.759123\n",
    "\n",
    "data.groupby('origin').fuel_efficiency_mpg.max()"
   ]
  },
  {
   "cell_type": "markdown",
   "id": "418b43c9-f36b-4291-adeb-c52286d52c68",
   "metadata": {},
   "source": [
    "### Q_6 Median value of horsepower"
   ]
  },
  {
   "cell_type": "code",
   "execution_count": 9,
   "id": "65c9323d-4261-47b9-9d4f-0482c1c8ccc5",
   "metadata": {},
   "outputs": [
    {
     "name": "stdout",
     "output_type": "stream",
     "text": [
      "1.median of horsepower is: 149.0 \n",
      "2.mode of horsepower is: 152.0 \n",
      "4.median of horsepower is: 152.0 \n"
     ]
    }
   ],
   "source": [
    "# Q_6_1 Answer is 149\n",
    "median_horsepower=data[\"horsepower\"].median()\n",
    "print(f\"1.median of horsepower is: {median_horsepower} \")\n",
    "# Q_6_2 Answer\n",
    "mode_horsepower=data[\"horsepower\"].mode()\n",
    "print(f\"2.mode of horsepower is: {mode_horsepower.iloc[0]} \")\n",
    "\n",
    "# Q_6_3 Answer\n",
    "data['horsepower']=data['horsepower'].fillna(mode_horsepower.iloc[0])\n",
    "\n",
    "# Q_6_4 Answer is 152 (yes, it increased)\n",
    "new_median_horsepower=data['horsepower'].median()\n",
    "print(f\"4.median of horsepower is: {new_median_horsepower} \")"
   ]
  },
  {
   "cell_type": "markdown",
   "id": "2b5fac54-6ea4-4705-be69-d0b7f57c8b3f",
   "metadata": {},
   "source": [
    "### Q_7 Sum of weights"
   ]
  },
  {
   "cell_type": "code",
   "execution_count": 10,
   "id": "e70afcd1-8629-48fc-a091-913eb3442962",
   "metadata": {},
   "outputs": [
    {
     "name": "stdout",
     "output_type": "stream",
     "text": [
      "Sum of weights: 0.5187709081074016\n"
     ]
    }
   ],
   "source": [
    "#Q_7_1 Answer\n",
    "asian_car=data[data['origin']==\"Asia\"]\n",
    "\n",
    "#Q_7_2 Answer\n",
    "two_columns_only= asian_car[['vehicle_weight','model_year']]\n",
    "\n",
    "#Q_7_3 and Q_7_4\n",
    "X=two_columns_only.head(7).to_numpy()\n",
    "\n",
    "#Q_7_5 Answer\n",
    "XTX=X.T.dot(X)\n",
    "\n",
    "#Q_7_6\n",
    "XTX_inv= np.linalg.inv(XTX)\n",
    "\n",
    "#Q_7_7\n",
    "y=np.array([1100, 1300, 800, 900, 1000, 1100, 1200])\n",
    "\n",
    "#Q_7_8\n",
    "w= XTX_inv @ X.T @ y\n",
    "\n",
    "#Q_7_9\n",
    "sum_w = w.sum()\n",
    "print(f\"Sum of weights: {sum_w}\")"
   ]
  },
  {
   "cell_type": "code",
   "execution_count": null,
   "id": "d3dab65d-ae18-4759-b4aa-203569e8adb1",
   "metadata": {},
   "outputs": [],
   "source": []
  }
 ],
 "metadata": {
  "kernelspec": {
   "display_name": "Python 3 (ipykernel)",
   "language": "python",
   "name": "python3"
  },
  "language_info": {
   "codemirror_mode": {
    "name": "ipython",
    "version": 3
   },
   "file_extension": ".py",
   "mimetype": "text/x-python",
   "name": "python",
   "nbconvert_exporter": "python",
   "pygments_lexer": "ipython3",
   "version": "3.12.1"
  }
 },
 "nbformat": 4,
 "nbformat_minor": 5
}
